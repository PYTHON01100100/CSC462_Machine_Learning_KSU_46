{
  "cells": [
    {
      "cell_type": "code",
      "source": [
        "import pandas as pd"
      ],
      "metadata": {
        "id": "YhrWA0uh2ksW"
      },
      "execution_count": null,
      "outputs": []
    },
    {
      "cell_type": "code",
      "source": [
        "#Google drive dataset\n",
        "from google.colab import drive\n",
        "drive.mount('/content/drive')"
      ],
      "metadata": {
        "colab": {
          "base_uri": "https://localhost:8080/"
        },
        "id": "SdiBudCZRETA",
        "outputId": "d2961a67-cd1d-4a01-9687-0936f97d126e"
      },
      "execution_count": null,
      "outputs": [
        {
          "output_type": "stream",
          "name": "stdout",
          "text": [
            "Mounted at /content/drive\n"
          ]
        }
      ]
    },
    {
      "cell_type": "code",
      "source": [
        "def update_w_and_b(featuer,target,w,b,alpha):\n",
        "    dl_dw = 0.0\n",
        "    dl_db = 0.0\n",
        "    N = len(featuer)\n",
        "    for i in range(N):\n",
        "        dl_dw += -2*featuer[i]*(target[i] - (w*featuer[i] + b))\n",
        "        dl_db += -2*(target[i] - (w*featuer[i] + b))\n",
        "    # update w and b\n",
        "    w = w - (dl_dw/float(N))*alpha\n",
        "    b = b - (dl_db/float(N))*alpha\n",
        "    return w,b\n",
        "\n",
        "def train(featuer,target,w,b,alpha,epochs):\n",
        "    for e in range(epochs):\n",
        "        w, b = update_w_and_b(featuer,target,w,b,alpha)\n",
        "    return w,b\n",
        "\n",
        "def loss(featuer,target,w,b):\n",
        "    N = len(featuer)\n",
        "    total_error = 0.0\n",
        "    for i in range(N):\n",
        "        total_error += (target[i] - (w*featuer[i] + b))**2\n",
        "    return total_error/float(N)\n",
        "\n",
        "def predict(x,w,b):\n",
        "    return w*x + b"
      ],
      "metadata": {
        "id": "IuHynzCl195S"
      },
      "execution_count": null,
      "outputs": []
    },
    {
      "cell_type": "markdown",
      "source": [
        "**Data** can be found at: https://drive.google.com/file/d/1MEj_QOxXUY_ixYjJvNMHVmlO2dIEEjon"
      ],
      "metadata": {
        "id": "Jyzmqyf-4MEx"
      }
    },
    {
      "cell_type": "code",
      "source": [
        "df = pd.read_csv('/content/drive/MyDrive/Public Datasets/Advertising.csv')\n",
        "x = df['radio']\n",
        "y = df['sales']"
      ],
      "metadata": {
        "id": "95z0UkQJ16rT"
      },
      "execution_count": null,
      "outputs": []
    },
    {
      "cell_type": "code",
      "source": [
        "w,b = train(x,y,0.0,0.0,0.001,15000)\n",
        "print(\"loss: \"+ str(loss(x,y,w,b)))"
      ],
      "metadata": {
        "colab": {
          "base_uri": "https://localhost:8080/"
        },
        "id": "PVNjFVhn2Mnp",
        "outputId": "8d544ddf-3e84-4b45-96d5-eecd452ef12e"
      },
      "execution_count": null,
      "outputs": [
        {
          "output_type": "stream",
          "name": "stdout",
          "text": [
            "loss: 18.092398515918592\n"
          ]
        }
      ]
    },
    {
      "cell_type": "code",
      "source": [
        "x_new = 23.0\n",
        "y_new = predict(x_new, w, b)\n",
        "print(y_new)"
      ],
      "metadata": {
        "colab": {
          "base_uri": "https://localhost:8080/"
        },
        "id": "kJ66VGVX2HC3",
        "outputId": "3ada42cd-7714-458f-9f2b-0455f7c7c61a"
      },
      "execution_count": null,
      "outputs": [
        {
          "output_type": "stream",
          "name": "stdout",
          "text": [
            "13.968556878212048\n"
          ]
        }
      ]
    }
  ],
  "metadata": {
    "kernelspec": {
      "display_name": "Python 3",
      "language": "python",
      "name": "python3"
    },
    "language_info": {
      "codemirror_mode": {
        "name": "ipython",
        "version": 3
      },
      "file_extension": ".py",
      "mimetype": "text/x-python",
      "name": "python",
      "nbconvert_exporter": "python",
      "pygments_lexer": "ipython3",
      "version": "3.8.8"
    },
    "colab": {
      "provenance": [],
      "machine_shape": "hm"
    },
    "gpuClass": "standard"
  },
  "nbformat": 4,
  "nbformat_minor": 0
}